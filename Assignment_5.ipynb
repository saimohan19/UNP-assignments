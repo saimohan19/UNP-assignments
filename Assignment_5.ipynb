{
  "nbformat": 4,
  "nbformat_minor": 0,
  "metadata": {
    "colab": {
      "name": "Assignment 5.ipynb",
      "provenance": [],
      "collapsed_sections": [],
      "include_colab_link": true
    },
    "kernelspec": {
      "name": "python3",
      "display_name": "Python 3"
    },
    "language_info": {
      "name": "python"
    }
  },
  "cells": [
    {
      "cell_type": "markdown",
      "metadata": {
        "id": "view-in-github",
        "colab_type": "text"
      },
      "source": [
        "<a href=\"https://colab.research.google.com/github/saimohan19/UNP-assignments/blob/main/Assignment_5.ipynb\" target=\"_parent\"><img src=\"https://colab.research.google.com/assets/colab-badge.svg\" alt=\"Open In Colab\"/></a>"
      ]
    },
    {
      "cell_type": "markdown",
      "source": [
        "### About the dataset\n",
        "Housing dataset contains the information of the properties sold in the city of \"Nashville\" over a sapn of 40 years. It contains all the necessary information like the area of the property, amount it was sold for, number of rooms that the property has etc. Our aim is to find some interesting insights from the data.\n",
        "\n",
        "### Loading data\n",
        "1. Import the \"housing\" data using appropriate functions.\n",
        "\n",
        "\n",
        "### Cleaning data\n",
        "1. Replace the missing values with appropriate approximations\n",
        "2. Rename the columns to better suited names\n",
        "3. Extract the month and year from the sale date.\n",
        "4. Extract the pin number from the property address\n",
        "\n",
        "\n",
        "### EDA\n",
        "Use appropriate plots and functions to answer the following questions.\n",
        "\n",
        "1. How has the price of properties changed over the years\n",
        "2. Does a specific month or span of months have the highest property prices?\n",
        "3. For what purpose were the properties generally purchased?\n",
        "4. What is the average age of the properties?\n",
        "5. Have the age of houses affected the price?\n",
        "6. Have the number of rooms in the house affected the price?\n",
        "7. Does the size of the property (no. of acres) have any influence in its price?\n",
        "8. Are houses located in specific pin numbers expensive over the others?\n",
        "9. How have house prices changed in the 21st centuary as supposed to 20th centuary. "
      ],
      "metadata": {
        "id": "NjbHOSgzaN1h"
      }
    },
    {
      "cell_type": "markdown",
      "source": [
        "# New Section"
      ],
      "metadata": {
        "id": "e3SJX_CJ2h-F"
      }
    },
    {
      "cell_type": "code",
      "source": [
        "import numpy as np\n",
        "import pandas as pd\n",
        "import matplotlib.pyplot as plt\n",
        "import seaborn as sns\n",
        "import math\n",
        "sns.set(color_codes=True)"
      ],
      "metadata": {
        "id": "4W53T1s6Y3IN"
      },
      "execution_count": null,
      "outputs": []
    },
    {
      "cell_type": "markdown",
      "source": [
        "LOADING DATA"
      ],
      "metadata": {
        "id": "9FOhV6x_EZnX"
      }
    },
    {
      "cell_type": "code",
      "source": [
        "data = pd.read_excel('Housing.xlsx')\n",
        "data.head()"
      ],
      "metadata": {
        "id": "7XQ0REu54dls",
        "colab": {
          "base_uri": "https://localhost:8080/",
          "height": 206
        },
        "outputId": "9d5b4352-1b43-4011-f36a-9635cb37b95b"
      },
      "execution_count": null,
      "outputs": [
        {
          "output_type": "execute_result",
          "data": {
            "text/plain": [
              "   UniqueID         LandUse                     PropertyAddress   SaleDate  \\\n",
              "0       2045  SINGLE FAMILY  1808  FOX CHASE DR, GOODLETTSVILLE 2013-04-09   \n",
              "1      16918  SINGLE FAMILY  1832  FOX CHASE DR, GOODLETTSVILLE 2014-06-10   \n",
              "2      54582  SINGLE FAMILY  1864 FOX CHASE  DR, GOODLETTSVILLE 2016-09-26   \n",
              "3      43070  SINGLE FAMILY  1853  FOX CHASE DR, GOODLETTSVILLE 2016-01-29   \n",
              "4      22714  SINGLE FAMILY  1829  FOX CHASE DR, GOODLETTSVILLE 2014-10-10   \n",
              "\n",
              "   SalePrice  Acre  LandValue  BuildingValue  TotalValue  YearBuilt  Bedrooms  \\\n",
              "0     240000   2.3    50000.0       168200.0    235700.0     1986.0       3.0   \n",
              "1     366000   3.5    50000.0       264100.0    319000.0     1998.0       3.0   \n",
              "2     435000   2.9    50000.0       216200.0    298000.0     1987.0       4.0   \n",
              "3     255000   2.6    50000.0       147300.0    197300.0     1985.0       3.0   \n",
              "4     278000   2.0    50000.0       152300.0    202300.0     1984.0       4.0   \n",
              "\n",
              "   FullBath  HalfBath  \n",
              "0       3.0       0.0  \n",
              "1       3.0       2.0  \n",
              "2       3.0       0.0  \n",
              "3       3.0       0.0  \n",
              "4       3.0       0.0  "
            ],
            "text/html": [
              "\n",
              "  <div id=\"df-427ed840-e3bc-4ca9-9bef-01c4536bca93\">\n",
              "    <div class=\"colab-df-container\">\n",
              "      <div>\n",
              "<style scoped>\n",
              "    .dataframe tbody tr th:only-of-type {\n",
              "        vertical-align: middle;\n",
              "    }\n",
              "\n",
              "    .dataframe tbody tr th {\n",
              "        vertical-align: top;\n",
              "    }\n",
              "\n",
              "    .dataframe thead th {\n",
              "        text-align: right;\n",
              "    }\n",
              "</style>\n",
              "<table border=\"1\" class=\"dataframe\">\n",
              "  <thead>\n",
              "    <tr style=\"text-align: right;\">\n",
              "      <th></th>\n",
              "      <th>UniqueID</th>\n",
              "      <th>LandUse</th>\n",
              "      <th>PropertyAddress</th>\n",
              "      <th>SaleDate</th>\n",
              "      <th>SalePrice</th>\n",
              "      <th>Acre</th>\n",
              "      <th>LandValue</th>\n",
              "      <th>BuildingValue</th>\n",
              "      <th>TotalValue</th>\n",
              "      <th>YearBuilt</th>\n",
              "      <th>Bedrooms</th>\n",
              "      <th>FullBath</th>\n",
              "      <th>HalfBath</th>\n",
              "    </tr>\n",
              "  </thead>\n",
              "  <tbody>\n",
              "    <tr>\n",
              "      <th>0</th>\n",
              "      <td>2045</td>\n",
              "      <td>SINGLE FAMILY</td>\n",
              "      <td>1808  FOX CHASE DR, GOODLETTSVILLE</td>\n",
              "      <td>2013-04-09</td>\n",
              "      <td>240000</td>\n",
              "      <td>2.3</td>\n",
              "      <td>50000.0</td>\n",
              "      <td>168200.0</td>\n",
              "      <td>235700.0</td>\n",
              "      <td>1986.0</td>\n",
              "      <td>3.0</td>\n",
              "      <td>3.0</td>\n",
              "      <td>0.0</td>\n",
              "    </tr>\n",
              "    <tr>\n",
              "      <th>1</th>\n",
              "      <td>16918</td>\n",
              "      <td>SINGLE FAMILY</td>\n",
              "      <td>1832  FOX CHASE DR, GOODLETTSVILLE</td>\n",
              "      <td>2014-06-10</td>\n",
              "      <td>366000</td>\n",
              "      <td>3.5</td>\n",
              "      <td>50000.0</td>\n",
              "      <td>264100.0</td>\n",
              "      <td>319000.0</td>\n",
              "      <td>1998.0</td>\n",
              "      <td>3.0</td>\n",
              "      <td>3.0</td>\n",
              "      <td>2.0</td>\n",
              "    </tr>\n",
              "    <tr>\n",
              "      <th>2</th>\n",
              "      <td>54582</td>\n",
              "      <td>SINGLE FAMILY</td>\n",
              "      <td>1864 FOX CHASE  DR, GOODLETTSVILLE</td>\n",
              "      <td>2016-09-26</td>\n",
              "      <td>435000</td>\n",
              "      <td>2.9</td>\n",
              "      <td>50000.0</td>\n",
              "      <td>216200.0</td>\n",
              "      <td>298000.0</td>\n",
              "      <td>1987.0</td>\n",
              "      <td>4.0</td>\n",
              "      <td>3.0</td>\n",
              "      <td>0.0</td>\n",
              "    </tr>\n",
              "    <tr>\n",
              "      <th>3</th>\n",
              "      <td>43070</td>\n",
              "      <td>SINGLE FAMILY</td>\n",
              "      <td>1853  FOX CHASE DR, GOODLETTSVILLE</td>\n",
              "      <td>2016-01-29</td>\n",
              "      <td>255000</td>\n",
              "      <td>2.6</td>\n",
              "      <td>50000.0</td>\n",
              "      <td>147300.0</td>\n",
              "      <td>197300.0</td>\n",
              "      <td>1985.0</td>\n",
              "      <td>3.0</td>\n",
              "      <td>3.0</td>\n",
              "      <td>0.0</td>\n",
              "    </tr>\n",
              "    <tr>\n",
              "      <th>4</th>\n",
              "      <td>22714</td>\n",
              "      <td>SINGLE FAMILY</td>\n",
              "      <td>1829  FOX CHASE DR, GOODLETTSVILLE</td>\n",
              "      <td>2014-10-10</td>\n",
              "      <td>278000</td>\n",
              "      <td>2.0</td>\n",
              "      <td>50000.0</td>\n",
              "      <td>152300.0</td>\n",
              "      <td>202300.0</td>\n",
              "      <td>1984.0</td>\n",
              "      <td>4.0</td>\n",
              "      <td>3.0</td>\n",
              "      <td>0.0</td>\n",
              "    </tr>\n",
              "  </tbody>\n",
              "</table>\n",
              "</div>\n",
              "      <button class=\"colab-df-convert\" onclick=\"convertToInteractive('df-427ed840-e3bc-4ca9-9bef-01c4536bca93')\"\n",
              "              title=\"Convert this dataframe to an interactive table.\"\n",
              "              style=\"display:none;\">\n",
              "        \n",
              "  <svg xmlns=\"http://www.w3.org/2000/svg\" height=\"24px\"viewBox=\"0 0 24 24\"\n",
              "       width=\"24px\">\n",
              "    <path d=\"M0 0h24v24H0V0z\" fill=\"none\"/>\n",
              "    <path d=\"M18.56 5.44l.94 2.06.94-2.06 2.06-.94-2.06-.94-.94-2.06-.94 2.06-2.06.94zm-11 1L8.5 8.5l.94-2.06 2.06-.94-2.06-.94L8.5 2.5l-.94 2.06-2.06.94zm10 10l.94 2.06.94-2.06 2.06-.94-2.06-.94-.94-2.06-.94 2.06-2.06.94z\"/><path d=\"M17.41 7.96l-1.37-1.37c-.4-.4-.92-.59-1.43-.59-.52 0-1.04.2-1.43.59L10.3 9.45l-7.72 7.72c-.78.78-.78 2.05 0 2.83L4 21.41c.39.39.9.59 1.41.59.51 0 1.02-.2 1.41-.59l7.78-7.78 2.81-2.81c.8-.78.8-2.07 0-2.86zM5.41 20L4 18.59l7.72-7.72 1.47 1.35L5.41 20z\"/>\n",
              "  </svg>\n",
              "      </button>\n",
              "      \n",
              "  <style>\n",
              "    .colab-df-container {\n",
              "      display:flex;\n",
              "      flex-wrap:wrap;\n",
              "      gap: 12px;\n",
              "    }\n",
              "\n",
              "    .colab-df-convert {\n",
              "      background-color: #E8F0FE;\n",
              "      border: none;\n",
              "      border-radius: 50%;\n",
              "      cursor: pointer;\n",
              "      display: none;\n",
              "      fill: #1967D2;\n",
              "      height: 32px;\n",
              "      padding: 0 0 0 0;\n",
              "      width: 32px;\n",
              "    }\n",
              "\n",
              "    .colab-df-convert:hover {\n",
              "      background-color: #E2EBFA;\n",
              "      box-shadow: 0px 1px 2px rgba(60, 64, 67, 0.3), 0px 1px 3px 1px rgba(60, 64, 67, 0.15);\n",
              "      fill: #174EA6;\n",
              "    }\n",
              "\n",
              "    [theme=dark] .colab-df-convert {\n",
              "      background-color: #3B4455;\n",
              "      fill: #D2E3FC;\n",
              "    }\n",
              "\n",
              "    [theme=dark] .colab-df-convert:hover {\n",
              "      background-color: #434B5C;\n",
              "      box-shadow: 0px 1px 3px 1px rgba(0, 0, 0, 0.15);\n",
              "      filter: drop-shadow(0px 1px 2px rgba(0, 0, 0, 0.3));\n",
              "      fill: #FFFFFF;\n",
              "    }\n",
              "  </style>\n",
              "\n",
              "      <script>\n",
              "        const buttonEl =\n",
              "          document.querySelector('#df-427ed840-e3bc-4ca9-9bef-01c4536bca93 button.colab-df-convert');\n",
              "        buttonEl.style.display =\n",
              "          google.colab.kernel.accessAllowed ? 'block' : 'none';\n",
              "\n",
              "        async function convertToInteractive(key) {\n",
              "          const element = document.querySelector('#df-427ed840-e3bc-4ca9-9bef-01c4536bca93');\n",
              "          const dataTable =\n",
              "            await google.colab.kernel.invokeFunction('convertToInteractive',\n",
              "                                                     [key], {});\n",
              "          if (!dataTable) return;\n",
              "\n",
              "          const docLinkHtml = 'Like what you see? Visit the ' +\n",
              "            '<a target=\"_blank\" href=https://colab.research.google.com/notebooks/data_table.ipynb>data table notebook</a>'\n",
              "            + ' to learn more about interactive tables.';\n",
              "          element.innerHTML = '';\n",
              "          dataTable['output_type'] = 'display_data';\n",
              "          await google.colab.output.renderOutput(dataTable, element);\n",
              "          const docLink = document.createElement('div');\n",
              "          docLink.innerHTML = docLinkHtml;\n",
              "          element.appendChild(docLink);\n",
              "        }\n",
              "      </script>\n",
              "    </div>\n",
              "  </div>\n",
              "  "
            ]
          },
          "metadata": {},
          "execution_count": 4
        }
      ]
    },
    {
      "cell_type": "markdown",
      "source": [
        "**CLEANING DATA**"
      ],
      "metadata": {
        "id": "zMI27Q5bEiGy"
      }
    },
    {
      "cell_type": "code",
      "source": [
        "data.isnull().sum()"
      ],
      "metadata": {
        "colab": {
          "base_uri": "https://localhost:8080/"
        },
        "id": "q6alZgFzD0aG",
        "outputId": "995d0ee3-e048-4cb8-92b6-165da2312ec7"
      },
      "execution_count": null,
      "outputs": [
        {
          "output_type": "execute_result",
          "data": {
            "text/plain": [
              "UniqueID               0\n",
              "LandUse                0\n",
              "PropertyAddress       29\n",
              "SaleDate               0\n",
              "SalePrice              0\n",
              "Acre               30462\n",
              "LandValue          30462\n",
              "BuildingValue      30462\n",
              "TotalValue         30462\n",
              "YearBuilt          32314\n",
              "Bedrooms           32320\n",
              "FullBath           32202\n",
              "HalfBath           32333\n",
              "dtype: int64"
            ]
          },
          "metadata": {},
          "execution_count": 189
        }
      ]
    },
    {
      "cell_type": "markdown",
      "source": [
        "1. Replace the missing values with appropriate approximations"
      ],
      "metadata": {
        "id": "DVDO9kGVMZbq"
      }
    },
    {
      "cell_type": "code",
      "source": [
        "data['Acre']=data[\"Acre\"].fillna(np.mean(data[\"Acre\"]))\n",
        "data['LandValue']=data[\"LandValue\"].fillna(np.mean(data[\"LandValue\"]))\n",
        "data['BuildingValue']=data[\"BuildingValue\"].fillna(np.mean(data[\"BuildingValue\"]))\n",
        "data['TotalValue']=data[\"TotalValue\"].fillna(np.mean(data[\"TotalValue\"]))\n",
        "data['YearBuilt']=data[\"YearBuilt\"].fillna(np.mean(data[\"YearBuilt\"]))\n",
        "data['Bedrooms']=data[\"Bedrooms\"].fillna(np.mean(data[\"Bedrooms\"]))\n",
        "data['FullBath']=data[\"FullBath\"].fillna(np.mean(data[\"FullBath\"]))\n",
        "data['HalfBath']=data[\"HalfBath\"].fillna(np.mean(data[\"HalfBath\"]))\n",
        "data"
      ],
      "metadata": {
        "colab": {
          "base_uri": "https://localhost:8080/",
          "height": 641
        },
        "id": "xNiWG1BeirlP",
        "outputId": "b9f2116b-7b8a-4f97-d850-8068e8e82b9c"
      },
      "execution_count": null,
      "outputs": [
        {
          "output_type": "execute_result",
          "data": {
            "text/plain": [
              "       UniqueID                   LandUse  \\\n",
              "0           2045            SINGLE FAMILY   \n",
              "1          16918            SINGLE FAMILY   \n",
              "2          54582            SINGLE FAMILY   \n",
              "3          43070            SINGLE FAMILY   \n",
              "4          22714            SINGLE FAMILY   \n",
              "...          ...                      ...   \n",
              "56472      30469            SINGLE FAMILY   \n",
              "56473      27707            SINGLE FAMILY   \n",
              "56474      52709  VACANT RESIDENTIAL LAND   \n",
              "56475      54042  VACANT RESIDENTIAL LAND   \n",
              "56476      54043  VACANT RESIDENTIAL LAND   \n",
              "\n",
              "                           PropertyAddress   SaleDate  SalePrice      Acre  \\\n",
              "0       1808  FOX CHASE DR, GOODLETTSVILLE 2013-04-09     240000  2.300000   \n",
              "1       1832  FOX CHASE DR, GOODLETTSVILLE 2014-06-10     366000  3.500000   \n",
              "2       1864 FOX CHASE  DR, GOODLETTSVILLE 2016-09-26     435000  2.900000   \n",
              "3       1853  FOX CHASE DR, GOODLETTSVILLE 2016-01-29     255000  2.600000   \n",
              "4       1829  FOX CHASE DR, GOODLETTSVILLE 2014-10-10     278000  2.000000   \n",
              "...                                    ...        ...        ...       ...   \n",
              "56472  1435  WINDING CREEK DR, NOLENSVILLE 2015-05-27     157500  0.498923   \n",
              "56473  1423  WINDING CREEK DR, NOLENSVILLE 2015-03-02     145000  0.498923   \n",
              "56474    1804 GRACE POINT  LN, NOLENSVILLE 2016-08-16     234611  0.498923   \n",
              "56475   1709 PARK TERRACE  LN, NOLENSVILLE 2016-09-07      93844  0.498923   \n",
              "56476   1713 PARK TERRACE  LN, NOLENSVILLE 2016-09-07      93844  0.498923   \n",
              "\n",
              "          LandValue  BuildingValue     TotalValue    YearBuilt  Bedrooms  \\\n",
              "0      50000.000000  168200.000000  235700.000000  1986.000000  3.000000   \n",
              "1      50000.000000  264100.000000  319000.000000  1998.000000  3.000000   \n",
              "2      50000.000000  216200.000000  298000.000000  1987.000000  4.000000   \n",
              "3      50000.000000  147300.000000  197300.000000  1985.000000  3.000000   \n",
              "4      50000.000000  152300.000000  202300.000000  1984.000000  4.000000   \n",
              "...             ...            ...            ...          ...       ...   \n",
              "56472  69068.557601  160784.677109  232375.398847  1963.744899  3.089912   \n",
              "56473  69068.557601  160784.677109  232375.398847  1963.744899  3.089912   \n",
              "56474  69068.557601  160784.677109  232375.398847  1963.744899  3.089912   \n",
              "56475  69068.557601  160784.677109  232375.398847  1963.744899  3.089912   \n",
              "56476  69068.557601  160784.677109  232375.398847  1963.744899  3.089912   \n",
              "\n",
              "       FullBath  HalfBath  \n",
              "0      3.000000  0.000000  \n",
              "1      3.000000  2.000000  \n",
              "2      3.000000  0.000000  \n",
              "3      3.000000  0.000000  \n",
              "4      3.000000  0.000000  \n",
              "...         ...       ...  \n",
              "56472  1.886014  0.283921  \n",
              "56473  1.886014  0.283921  \n",
              "56474  1.886014  0.283921  \n",
              "56475  1.886014  0.283921  \n",
              "56476  1.886014  0.283921  \n",
              "\n",
              "[56477 rows x 13 columns]"
            ],
            "text/html": [
              "\n",
              "  <div id=\"df-b5a43c8b-a63b-4bb6-855d-f376ab536340\">\n",
              "    <div class=\"colab-df-container\">\n",
              "      <div>\n",
              "<style scoped>\n",
              "    .dataframe tbody tr th:only-of-type {\n",
              "        vertical-align: middle;\n",
              "    }\n",
              "\n",
              "    .dataframe tbody tr th {\n",
              "        vertical-align: top;\n",
              "    }\n",
              "\n",
              "    .dataframe thead th {\n",
              "        text-align: right;\n",
              "    }\n",
              "</style>\n",
              "<table border=\"1\" class=\"dataframe\">\n",
              "  <thead>\n",
              "    <tr style=\"text-align: right;\">\n",
              "      <th></th>\n",
              "      <th>UniqueID</th>\n",
              "      <th>LandUse</th>\n",
              "      <th>PropertyAddress</th>\n",
              "      <th>SaleDate</th>\n",
              "      <th>SalePrice</th>\n",
              "      <th>Acre</th>\n",
              "      <th>LandValue</th>\n",
              "      <th>BuildingValue</th>\n",
              "      <th>TotalValue</th>\n",
              "      <th>YearBuilt</th>\n",
              "      <th>Bedrooms</th>\n",
              "      <th>FullBath</th>\n",
              "      <th>HalfBath</th>\n",
              "    </tr>\n",
              "  </thead>\n",
              "  <tbody>\n",
              "    <tr>\n",
              "      <th>0</th>\n",
              "      <td>2045</td>\n",
              "      <td>SINGLE FAMILY</td>\n",
              "      <td>1808  FOX CHASE DR, GOODLETTSVILLE</td>\n",
              "      <td>2013-04-09</td>\n",
              "      <td>240000</td>\n",
              "      <td>2.300000</td>\n",
              "      <td>50000.000000</td>\n",
              "      <td>168200.000000</td>\n",
              "      <td>235700.000000</td>\n",
              "      <td>1986.000000</td>\n",
              "      <td>3.000000</td>\n",
              "      <td>3.000000</td>\n",
              "      <td>0.000000</td>\n",
              "    </tr>\n",
              "    <tr>\n",
              "      <th>1</th>\n",
              "      <td>16918</td>\n",
              "      <td>SINGLE FAMILY</td>\n",
              "      <td>1832  FOX CHASE DR, GOODLETTSVILLE</td>\n",
              "      <td>2014-06-10</td>\n",
              "      <td>366000</td>\n",
              "      <td>3.500000</td>\n",
              "      <td>50000.000000</td>\n",
              "      <td>264100.000000</td>\n",
              "      <td>319000.000000</td>\n",
              "      <td>1998.000000</td>\n",
              "      <td>3.000000</td>\n",
              "      <td>3.000000</td>\n",
              "      <td>2.000000</td>\n",
              "    </tr>\n",
              "    <tr>\n",
              "      <th>2</th>\n",
              "      <td>54582</td>\n",
              "      <td>SINGLE FAMILY</td>\n",
              "      <td>1864 FOX CHASE  DR, GOODLETTSVILLE</td>\n",
              "      <td>2016-09-26</td>\n",
              "      <td>435000</td>\n",
              "      <td>2.900000</td>\n",
              "      <td>50000.000000</td>\n",
              "      <td>216200.000000</td>\n",
              "      <td>298000.000000</td>\n",
              "      <td>1987.000000</td>\n",
              "      <td>4.000000</td>\n",
              "      <td>3.000000</td>\n",
              "      <td>0.000000</td>\n",
              "    </tr>\n",
              "    <tr>\n",
              "      <th>3</th>\n",
              "      <td>43070</td>\n",
              "      <td>SINGLE FAMILY</td>\n",
              "      <td>1853  FOX CHASE DR, GOODLETTSVILLE</td>\n",
              "      <td>2016-01-29</td>\n",
              "      <td>255000</td>\n",
              "      <td>2.600000</td>\n",
              "      <td>50000.000000</td>\n",
              "      <td>147300.000000</td>\n",
              "      <td>197300.000000</td>\n",
              "      <td>1985.000000</td>\n",
              "      <td>3.000000</td>\n",
              "      <td>3.000000</td>\n",
              "      <td>0.000000</td>\n",
              "    </tr>\n",
              "    <tr>\n",
              "      <th>4</th>\n",
              "      <td>22714</td>\n",
              "      <td>SINGLE FAMILY</td>\n",
              "      <td>1829  FOX CHASE DR, GOODLETTSVILLE</td>\n",
              "      <td>2014-10-10</td>\n",
              "      <td>278000</td>\n",
              "      <td>2.000000</td>\n",
              "      <td>50000.000000</td>\n",
              "      <td>152300.000000</td>\n",
              "      <td>202300.000000</td>\n",
              "      <td>1984.000000</td>\n",
              "      <td>4.000000</td>\n",
              "      <td>3.000000</td>\n",
              "      <td>0.000000</td>\n",
              "    </tr>\n",
              "    <tr>\n",
              "      <th>...</th>\n",
              "      <td>...</td>\n",
              "      <td>...</td>\n",
              "      <td>...</td>\n",
              "      <td>...</td>\n",
              "      <td>...</td>\n",
              "      <td>...</td>\n",
              "      <td>...</td>\n",
              "      <td>...</td>\n",
              "      <td>...</td>\n",
              "      <td>...</td>\n",
              "      <td>...</td>\n",
              "      <td>...</td>\n",
              "      <td>...</td>\n",
              "    </tr>\n",
              "    <tr>\n",
              "      <th>56472</th>\n",
              "      <td>30469</td>\n",
              "      <td>SINGLE FAMILY</td>\n",
              "      <td>1435  WINDING CREEK DR, NOLENSVILLE</td>\n",
              "      <td>2015-05-27</td>\n",
              "      <td>157500</td>\n",
              "      <td>0.498923</td>\n",
              "      <td>69068.557601</td>\n",
              "      <td>160784.677109</td>\n",
              "      <td>232375.398847</td>\n",
              "      <td>1963.744899</td>\n",
              "      <td>3.089912</td>\n",
              "      <td>1.886014</td>\n",
              "      <td>0.283921</td>\n",
              "    </tr>\n",
              "    <tr>\n",
              "      <th>56473</th>\n",
              "      <td>27707</td>\n",
              "      <td>SINGLE FAMILY</td>\n",
              "      <td>1423  WINDING CREEK DR, NOLENSVILLE</td>\n",
              "      <td>2015-03-02</td>\n",
              "      <td>145000</td>\n",
              "      <td>0.498923</td>\n",
              "      <td>69068.557601</td>\n",
              "      <td>160784.677109</td>\n",
              "      <td>232375.398847</td>\n",
              "      <td>1963.744899</td>\n",
              "      <td>3.089912</td>\n",
              "      <td>1.886014</td>\n",
              "      <td>0.283921</td>\n",
              "    </tr>\n",
              "    <tr>\n",
              "      <th>56474</th>\n",
              "      <td>52709</td>\n",
              "      <td>VACANT RESIDENTIAL LAND</td>\n",
              "      <td>1804 GRACE POINT  LN, NOLENSVILLE</td>\n",
              "      <td>2016-08-16</td>\n",
              "      <td>234611</td>\n",
              "      <td>0.498923</td>\n",
              "      <td>69068.557601</td>\n",
              "      <td>160784.677109</td>\n",
              "      <td>232375.398847</td>\n",
              "      <td>1963.744899</td>\n",
              "      <td>3.089912</td>\n",
              "      <td>1.886014</td>\n",
              "      <td>0.283921</td>\n",
              "    </tr>\n",
              "    <tr>\n",
              "      <th>56475</th>\n",
              "      <td>54042</td>\n",
              "      <td>VACANT RESIDENTIAL LAND</td>\n",
              "      <td>1709 PARK TERRACE  LN, NOLENSVILLE</td>\n",
              "      <td>2016-09-07</td>\n",
              "      <td>93844</td>\n",
              "      <td>0.498923</td>\n",
              "      <td>69068.557601</td>\n",
              "      <td>160784.677109</td>\n",
              "      <td>232375.398847</td>\n",
              "      <td>1963.744899</td>\n",
              "      <td>3.089912</td>\n",
              "      <td>1.886014</td>\n",
              "      <td>0.283921</td>\n",
              "    </tr>\n",
              "    <tr>\n",
              "      <th>56476</th>\n",
              "      <td>54043</td>\n",
              "      <td>VACANT RESIDENTIAL LAND</td>\n",
              "      <td>1713 PARK TERRACE  LN, NOLENSVILLE</td>\n",
              "      <td>2016-09-07</td>\n",
              "      <td>93844</td>\n",
              "      <td>0.498923</td>\n",
              "      <td>69068.557601</td>\n",
              "      <td>160784.677109</td>\n",
              "      <td>232375.398847</td>\n",
              "      <td>1963.744899</td>\n",
              "      <td>3.089912</td>\n",
              "      <td>1.886014</td>\n",
              "      <td>0.283921</td>\n",
              "    </tr>\n",
              "  </tbody>\n",
              "</table>\n",
              "<p>56477 rows × 13 columns</p>\n",
              "</div>\n",
              "      <button class=\"colab-df-convert\" onclick=\"convertToInteractive('df-b5a43c8b-a63b-4bb6-855d-f376ab536340')\"\n",
              "              title=\"Convert this dataframe to an interactive table.\"\n",
              "              style=\"display:none;\">\n",
              "        \n",
              "  <svg xmlns=\"http://www.w3.org/2000/svg\" height=\"24px\"viewBox=\"0 0 24 24\"\n",
              "       width=\"24px\">\n",
              "    <path d=\"M0 0h24v24H0V0z\" fill=\"none\"/>\n",
              "    <path d=\"M18.56 5.44l.94 2.06.94-2.06 2.06-.94-2.06-.94-.94-2.06-.94 2.06-2.06.94zm-11 1L8.5 8.5l.94-2.06 2.06-.94-2.06-.94L8.5 2.5l-.94 2.06-2.06.94zm10 10l.94 2.06.94-2.06 2.06-.94-2.06-.94-.94-2.06-.94 2.06-2.06.94z\"/><path d=\"M17.41 7.96l-1.37-1.37c-.4-.4-.92-.59-1.43-.59-.52 0-1.04.2-1.43.59L10.3 9.45l-7.72 7.72c-.78.78-.78 2.05 0 2.83L4 21.41c.39.39.9.59 1.41.59.51 0 1.02-.2 1.41-.59l7.78-7.78 2.81-2.81c.8-.78.8-2.07 0-2.86zM5.41 20L4 18.59l7.72-7.72 1.47 1.35L5.41 20z\"/>\n",
              "  </svg>\n",
              "      </button>\n",
              "      \n",
              "  <style>\n",
              "    .colab-df-container {\n",
              "      display:flex;\n",
              "      flex-wrap:wrap;\n",
              "      gap: 12px;\n",
              "    }\n",
              "\n",
              "    .colab-df-convert {\n",
              "      background-color: #E8F0FE;\n",
              "      border: none;\n",
              "      border-radius: 50%;\n",
              "      cursor: pointer;\n",
              "      display: none;\n",
              "      fill: #1967D2;\n",
              "      height: 32px;\n",
              "      padding: 0 0 0 0;\n",
              "      width: 32px;\n",
              "    }\n",
              "\n",
              "    .colab-df-convert:hover {\n",
              "      background-color: #E2EBFA;\n",
              "      box-shadow: 0px 1px 2px rgba(60, 64, 67, 0.3), 0px 1px 3px 1px rgba(60, 64, 67, 0.15);\n",
              "      fill: #174EA6;\n",
              "    }\n",
              "\n",
              "    [theme=dark] .colab-df-convert {\n",
              "      background-color: #3B4455;\n",
              "      fill: #D2E3FC;\n",
              "    }\n",
              "\n",
              "    [theme=dark] .colab-df-convert:hover {\n",
              "      background-color: #434B5C;\n",
              "      box-shadow: 0px 1px 3px 1px rgba(0, 0, 0, 0.15);\n",
              "      filter: drop-shadow(0px 1px 2px rgba(0, 0, 0, 0.3));\n",
              "      fill: #FFFFFF;\n",
              "    }\n",
              "  </style>\n",
              "\n",
              "      <script>\n",
              "        const buttonEl =\n",
              "          document.querySelector('#df-b5a43c8b-a63b-4bb6-855d-f376ab536340 button.colab-df-convert');\n",
              "        buttonEl.style.display =\n",
              "          google.colab.kernel.accessAllowed ? 'block' : 'none';\n",
              "\n",
              "        async function convertToInteractive(key) {\n",
              "          const element = document.querySelector('#df-b5a43c8b-a63b-4bb6-855d-f376ab536340');\n",
              "          const dataTable =\n",
              "            await google.colab.kernel.invokeFunction('convertToInteractive',\n",
              "                                                     [key], {});\n",
              "          if (!dataTable) return;\n",
              "\n",
              "          const docLinkHtml = 'Like what you see? Visit the ' +\n",
              "            '<a target=\"_blank\" href=https://colab.research.google.com/notebooks/data_table.ipynb>data table notebook</a>'\n",
              "            + ' to learn more about interactive tables.';\n",
              "          element.innerHTML = '';\n",
              "          dataTable['output_type'] = 'display_data';\n",
              "          await google.colab.output.renderOutput(dataTable, element);\n",
              "          const docLink = document.createElement('div');\n",
              "          docLink.innerHTML = docLinkHtml;\n",
              "          element.appendChild(docLink);\n",
              "        }\n",
              "      </script>\n",
              "    </div>\n",
              "  </div>\n",
              "  "
            ]
          },
          "metadata": {},
          "execution_count": 5
        }
      ]
    },
    {
      "cell_type": "code",
      "source": [
        "data.dropna(inplace=True)\n",
        "data=data.reset_index(drop=True)"
      ],
      "metadata": {
        "id": "KUhcoOM9T-uB"
      },
      "execution_count": null,
      "outputs": []
    },
    {
      "cell_type": "markdown",
      "source": [
        "**2. Rename the columns to better suited names**"
      ],
      "metadata": {
        "id": "BPzREYWpMoKd"
      }
    },
    {
      "cell_type": "code",
      "source": [
        "data.columns"
      ],
      "metadata": {
        "colab": {
          "base_uri": "https://localhost:8080/"
        },
        "id": "-pXFsL2xNf78",
        "outputId": "f9747c90-b959-4ef8-b402-a2c8a5866c96"
      },
      "execution_count": null,
      "outputs": [
        {
          "output_type": "execute_result",
          "data": {
            "text/plain": [
              "Index(['UniqueID ', 'LandUse', 'PropertyAddress', 'SaleDate', 'SalePrice',\n",
              "       'Acre', 'LandValue', 'BuildingValue', 'TotalValue', 'YearBuilt',\n",
              "       'Bedrooms', 'FullBath', 'HalfBath'],\n",
              "      dtype='object')"
            ]
          },
          "metadata": {},
          "execution_count": 7
        }
      ]
    },
    {
      "cell_type": "code",
      "source": [
        "data.rename(columns={\"FullBath\":\"FullBathroom\"},inplace=True)\n",
        "data.rename(columns={\"HalfBath\":\"HalfBathroom\"},inplace=True)"
      ],
      "metadata": {
        "id": "XBZ856rANaQm"
      },
      "execution_count": null,
      "outputs": []
    },
    {
      "cell_type": "markdown",
      "source": [
        "**3. Extract the month and year from the sale date.**"
      ],
      "metadata": {
        "id": "k_r6est4M4Tj"
      }
    },
    {
      "cell_type": "code",
      "source": [
        "data['Year']=pd.DatetimeIndex(data['SaleDate']).year\n",
        "data['Month']=pd.DatetimeIndex(data['SaleDate']).month\n",
        "data['Day']=pd.DatetimeIndex(data['SaleDate']).day\n",
        "data"
      ],
      "metadata": {
        "colab": {
          "base_uri": "https://localhost:8080/",
          "height": 693
        },
        "id": "IkPXlNyKi0MH",
        "outputId": "2f22c9db-7a20-4b56-c98d-c44488039bab"
      },
      "execution_count": null,
      "outputs": [
        {
          "output_type": "execute_result",
          "data": {
            "text/plain": [
              "       UniqueID                   LandUse  \\\n",
              "0           2045            SINGLE FAMILY   \n",
              "1          16918            SINGLE FAMILY   \n",
              "2          54582            SINGLE FAMILY   \n",
              "3          43070            SINGLE FAMILY   \n",
              "4          22714            SINGLE FAMILY   \n",
              "...          ...                      ...   \n",
              "56443      30469            SINGLE FAMILY   \n",
              "56444      27707            SINGLE FAMILY   \n",
              "56445      52709  VACANT RESIDENTIAL LAND   \n",
              "56446      54042  VACANT RESIDENTIAL LAND   \n",
              "56447      54043  VACANT RESIDENTIAL LAND   \n",
              "\n",
              "                           PropertyAddress   SaleDate  SalePrice      Acre  \\\n",
              "0       1808  FOX CHASE DR, GOODLETTSVILLE 2013-04-09     240000  2.300000   \n",
              "1       1832  FOX CHASE DR, GOODLETTSVILLE 2014-06-10     366000  3.500000   \n",
              "2       1864 FOX CHASE  DR, GOODLETTSVILLE 2016-09-26     435000  2.900000   \n",
              "3       1853  FOX CHASE DR, GOODLETTSVILLE 2016-01-29     255000  2.600000   \n",
              "4       1829  FOX CHASE DR, GOODLETTSVILLE 2014-10-10     278000  2.000000   \n",
              "...                                    ...        ...        ...       ...   \n",
              "56443  1435  WINDING CREEK DR, NOLENSVILLE 2015-05-27     157500  0.498923   \n",
              "56444  1423  WINDING CREEK DR, NOLENSVILLE 2015-03-02     145000  0.498923   \n",
              "56445    1804 GRACE POINT  LN, NOLENSVILLE 2016-08-16     234611  0.498923   \n",
              "56446   1709 PARK TERRACE  LN, NOLENSVILLE 2016-09-07      93844  0.498923   \n",
              "56447   1713 PARK TERRACE  LN, NOLENSVILLE 2016-09-07      93844  0.498923   \n",
              "\n",
              "          LandValue  BuildingValue     TotalValue    YearBuilt  Bedrooms  \\\n",
              "0      50000.000000  168200.000000  235700.000000  1986.000000  3.000000   \n",
              "1      50000.000000  264100.000000  319000.000000  1998.000000  3.000000   \n",
              "2      50000.000000  216200.000000  298000.000000  1987.000000  4.000000   \n",
              "3      50000.000000  147300.000000  197300.000000  1985.000000  3.000000   \n",
              "4      50000.000000  152300.000000  202300.000000  1984.000000  4.000000   \n",
              "...             ...            ...            ...          ...       ...   \n",
              "56443  69068.557601  160784.677109  232375.398847  1963.744899  3.089912   \n",
              "56444  69068.557601  160784.677109  232375.398847  1963.744899  3.089912   \n",
              "56445  69068.557601  160784.677109  232375.398847  1963.744899  3.089912   \n",
              "56446  69068.557601  160784.677109  232375.398847  1963.744899  3.089912   \n",
              "56447  69068.557601  160784.677109  232375.398847  1963.744899  3.089912   \n",
              "\n",
              "       FullBathroom  HalfBathroom  Year  Month  Day  \n",
              "0          3.000000      0.000000  2013      4    9  \n",
              "1          3.000000      2.000000  2014      6   10  \n",
              "2          3.000000      0.000000  2016      9   26  \n",
              "3          3.000000      0.000000  2016      1   29  \n",
              "4          3.000000      0.000000  2014     10   10  \n",
              "...             ...           ...   ...    ...  ...  \n",
              "56443      1.886014      0.283921  2015      5   27  \n",
              "56444      1.886014      0.283921  2015      3    2  \n",
              "56445      1.886014      0.283921  2016      8   16  \n",
              "56446      1.886014      0.283921  2016      9    7  \n",
              "56447      1.886014      0.283921  2016      9    7  \n",
              "\n",
              "[56448 rows x 16 columns]"
            ],
            "text/html": [
              "\n",
              "  <div id=\"df-c73374b2-4276-47cf-8e11-f932d89e3615\">\n",
              "    <div class=\"colab-df-container\">\n",
              "      <div>\n",
              "<style scoped>\n",
              "    .dataframe tbody tr th:only-of-type {\n",
              "        vertical-align: middle;\n",
              "    }\n",
              "\n",
              "    .dataframe tbody tr th {\n",
              "        vertical-align: top;\n",
              "    }\n",
              "\n",
              "    .dataframe thead th {\n",
              "        text-align: right;\n",
              "    }\n",
              "</style>\n",
              "<table border=\"1\" class=\"dataframe\">\n",
              "  <thead>\n",
              "    <tr style=\"text-align: right;\">\n",
              "      <th></th>\n",
              "      <th>UniqueID</th>\n",
              "      <th>LandUse</th>\n",
              "      <th>PropertyAddress</th>\n",
              "      <th>SaleDate</th>\n",
              "      <th>SalePrice</th>\n",
              "      <th>Acre</th>\n",
              "      <th>LandValue</th>\n",
              "      <th>BuildingValue</th>\n",
              "      <th>TotalValue</th>\n",
              "      <th>YearBuilt</th>\n",
              "      <th>Bedrooms</th>\n",
              "      <th>FullBathroom</th>\n",
              "      <th>HalfBathroom</th>\n",
              "      <th>Year</th>\n",
              "      <th>Month</th>\n",
              "      <th>Day</th>\n",
              "    </tr>\n",
              "  </thead>\n",
              "  <tbody>\n",
              "    <tr>\n",
              "      <th>0</th>\n",
              "      <td>2045</td>\n",
              "      <td>SINGLE FAMILY</td>\n",
              "      <td>1808  FOX CHASE DR, GOODLETTSVILLE</td>\n",
              "      <td>2013-04-09</td>\n",
              "      <td>240000</td>\n",
              "      <td>2.300000</td>\n",
              "      <td>50000.000000</td>\n",
              "      <td>168200.000000</td>\n",
              "      <td>235700.000000</td>\n",
              "      <td>1986.000000</td>\n",
              "      <td>3.000000</td>\n",
              "      <td>3.000000</td>\n",
              "      <td>0.000000</td>\n",
              "      <td>2013</td>\n",
              "      <td>4</td>\n",
              "      <td>9</td>\n",
              "    </tr>\n",
              "    <tr>\n",
              "      <th>1</th>\n",
              "      <td>16918</td>\n",
              "      <td>SINGLE FAMILY</td>\n",
              "      <td>1832  FOX CHASE DR, GOODLETTSVILLE</td>\n",
              "      <td>2014-06-10</td>\n",
              "      <td>366000</td>\n",
              "      <td>3.500000</td>\n",
              "      <td>50000.000000</td>\n",
              "      <td>264100.000000</td>\n",
              "      <td>319000.000000</td>\n",
              "      <td>1998.000000</td>\n",
              "      <td>3.000000</td>\n",
              "      <td>3.000000</td>\n",
              "      <td>2.000000</td>\n",
              "      <td>2014</td>\n",
              "      <td>6</td>\n",
              "      <td>10</td>\n",
              "    </tr>\n",
              "    <tr>\n",
              "      <th>2</th>\n",
              "      <td>54582</td>\n",
              "      <td>SINGLE FAMILY</td>\n",
              "      <td>1864 FOX CHASE  DR, GOODLETTSVILLE</td>\n",
              "      <td>2016-09-26</td>\n",
              "      <td>435000</td>\n",
              "      <td>2.900000</td>\n",
              "      <td>50000.000000</td>\n",
              "      <td>216200.000000</td>\n",
              "      <td>298000.000000</td>\n",
              "      <td>1987.000000</td>\n",
              "      <td>4.000000</td>\n",
              "      <td>3.000000</td>\n",
              "      <td>0.000000</td>\n",
              "      <td>2016</td>\n",
              "      <td>9</td>\n",
              "      <td>26</td>\n",
              "    </tr>\n",
              "    <tr>\n",
              "      <th>3</th>\n",
              "      <td>43070</td>\n",
              "      <td>SINGLE FAMILY</td>\n",
              "      <td>1853  FOX CHASE DR, GOODLETTSVILLE</td>\n",
              "      <td>2016-01-29</td>\n",
              "      <td>255000</td>\n",
              "      <td>2.600000</td>\n",
              "      <td>50000.000000</td>\n",
              "      <td>147300.000000</td>\n",
              "      <td>197300.000000</td>\n",
              "      <td>1985.000000</td>\n",
              "      <td>3.000000</td>\n",
              "      <td>3.000000</td>\n",
              "      <td>0.000000</td>\n",
              "      <td>2016</td>\n",
              "      <td>1</td>\n",
              "      <td>29</td>\n",
              "    </tr>\n",
              "    <tr>\n",
              "      <th>4</th>\n",
              "      <td>22714</td>\n",
              "      <td>SINGLE FAMILY</td>\n",
              "      <td>1829  FOX CHASE DR, GOODLETTSVILLE</td>\n",
              "      <td>2014-10-10</td>\n",
              "      <td>278000</td>\n",
              "      <td>2.000000</td>\n",
              "      <td>50000.000000</td>\n",
              "      <td>152300.000000</td>\n",
              "      <td>202300.000000</td>\n",
              "      <td>1984.000000</td>\n",
              "      <td>4.000000</td>\n",
              "      <td>3.000000</td>\n",
              "      <td>0.000000</td>\n",
              "      <td>2014</td>\n",
              "      <td>10</td>\n",
              "      <td>10</td>\n",
              "    </tr>\n",
              "    <tr>\n",
              "      <th>...</th>\n",
              "      <td>...</td>\n",
              "      <td>...</td>\n",
              "      <td>...</td>\n",
              "      <td>...</td>\n",
              "      <td>...</td>\n",
              "      <td>...</td>\n",
              "      <td>...</td>\n",
              "      <td>...</td>\n",
              "      <td>...</td>\n",
              "      <td>...</td>\n",
              "      <td>...</td>\n",
              "      <td>...</td>\n",
              "      <td>...</td>\n",
              "      <td>...</td>\n",
              "      <td>...</td>\n",
              "      <td>...</td>\n",
              "    </tr>\n",
              "    <tr>\n",
              "      <th>56443</th>\n",
              "      <td>30469</td>\n",
              "      <td>SINGLE FAMILY</td>\n",
              "      <td>1435  WINDING CREEK DR, NOLENSVILLE</td>\n",
              "      <td>2015-05-27</td>\n",
              "      <td>157500</td>\n",
              "      <td>0.498923</td>\n",
              "      <td>69068.557601</td>\n",
              "      <td>160784.677109</td>\n",
              "      <td>232375.398847</td>\n",
              "      <td>1963.744899</td>\n",
              "      <td>3.089912</td>\n",
              "      <td>1.886014</td>\n",
              "      <td>0.283921</td>\n",
              "      <td>2015</td>\n",
              "      <td>5</td>\n",
              "      <td>27</td>\n",
              "    </tr>\n",
              "    <tr>\n",
              "      <th>56444</th>\n",
              "      <td>27707</td>\n",
              "      <td>SINGLE FAMILY</td>\n",
              "      <td>1423  WINDING CREEK DR, NOLENSVILLE</td>\n",
              "      <td>2015-03-02</td>\n",
              "      <td>145000</td>\n",
              "      <td>0.498923</td>\n",
              "      <td>69068.557601</td>\n",
              "      <td>160784.677109</td>\n",
              "      <td>232375.398847</td>\n",
              "      <td>1963.744899</td>\n",
              "      <td>3.089912</td>\n",
              "      <td>1.886014</td>\n",
              "      <td>0.283921</td>\n",
              "      <td>2015</td>\n",
              "      <td>3</td>\n",
              "      <td>2</td>\n",
              "    </tr>\n",
              "    <tr>\n",
              "      <th>56445</th>\n",
              "      <td>52709</td>\n",
              "      <td>VACANT RESIDENTIAL LAND</td>\n",
              "      <td>1804 GRACE POINT  LN, NOLENSVILLE</td>\n",
              "      <td>2016-08-16</td>\n",
              "      <td>234611</td>\n",
              "      <td>0.498923</td>\n",
              "      <td>69068.557601</td>\n",
              "      <td>160784.677109</td>\n",
              "      <td>232375.398847</td>\n",
              "      <td>1963.744899</td>\n",
              "      <td>3.089912</td>\n",
              "      <td>1.886014</td>\n",
              "      <td>0.283921</td>\n",
              "      <td>2016</td>\n",
              "      <td>8</td>\n",
              "      <td>16</td>\n",
              "    </tr>\n",
              "    <tr>\n",
              "      <th>56446</th>\n",
              "      <td>54042</td>\n",
              "      <td>VACANT RESIDENTIAL LAND</td>\n",
              "      <td>1709 PARK TERRACE  LN, NOLENSVILLE</td>\n",
              "      <td>2016-09-07</td>\n",
              "      <td>93844</td>\n",
              "      <td>0.498923</td>\n",
              "      <td>69068.557601</td>\n",
              "      <td>160784.677109</td>\n",
              "      <td>232375.398847</td>\n",
              "      <td>1963.744899</td>\n",
              "      <td>3.089912</td>\n",
              "      <td>1.886014</td>\n",
              "      <td>0.283921</td>\n",
              "      <td>2016</td>\n",
              "      <td>9</td>\n",
              "      <td>7</td>\n",
              "    </tr>\n",
              "    <tr>\n",
              "      <th>56447</th>\n",
              "      <td>54043</td>\n",
              "      <td>VACANT RESIDENTIAL LAND</td>\n",
              "      <td>1713 PARK TERRACE  LN, NOLENSVILLE</td>\n",
              "      <td>2016-09-07</td>\n",
              "      <td>93844</td>\n",
              "      <td>0.498923</td>\n",
              "      <td>69068.557601</td>\n",
              "      <td>160784.677109</td>\n",
              "      <td>232375.398847</td>\n",
              "      <td>1963.744899</td>\n",
              "      <td>3.089912</td>\n",
              "      <td>1.886014</td>\n",
              "      <td>0.283921</td>\n",
              "      <td>2016</td>\n",
              "      <td>9</td>\n",
              "      <td>7</td>\n",
              "    </tr>\n",
              "  </tbody>\n",
              "</table>\n",
              "<p>56448 rows × 16 columns</p>\n",
              "</div>\n",
              "      <button class=\"colab-df-convert\" onclick=\"convertToInteractive('df-c73374b2-4276-47cf-8e11-f932d89e3615')\"\n",
              "              title=\"Convert this dataframe to an interactive table.\"\n",
              "              style=\"display:none;\">\n",
              "        \n",
              "  <svg xmlns=\"http://www.w3.org/2000/svg\" height=\"24px\"viewBox=\"0 0 24 24\"\n",
              "       width=\"24px\">\n",
              "    <path d=\"M0 0h24v24H0V0z\" fill=\"none\"/>\n",
              "    <path d=\"M18.56 5.44l.94 2.06.94-2.06 2.06-.94-2.06-.94-.94-2.06-.94 2.06-2.06.94zm-11 1L8.5 8.5l.94-2.06 2.06-.94-2.06-.94L8.5 2.5l-.94 2.06-2.06.94zm10 10l.94 2.06.94-2.06 2.06-.94-2.06-.94-.94-2.06-.94 2.06-2.06.94z\"/><path d=\"M17.41 7.96l-1.37-1.37c-.4-.4-.92-.59-1.43-.59-.52 0-1.04.2-1.43.59L10.3 9.45l-7.72 7.72c-.78.78-.78 2.05 0 2.83L4 21.41c.39.39.9.59 1.41.59.51 0 1.02-.2 1.41-.59l7.78-7.78 2.81-2.81c.8-.78.8-2.07 0-2.86zM5.41 20L4 18.59l7.72-7.72 1.47 1.35L5.41 20z\"/>\n",
              "  </svg>\n",
              "      </button>\n",
              "      \n",
              "  <style>\n",
              "    .colab-df-container {\n",
              "      display:flex;\n",
              "      flex-wrap:wrap;\n",
              "      gap: 12px;\n",
              "    }\n",
              "\n",
              "    .colab-df-convert {\n",
              "      background-color: #E8F0FE;\n",
              "      border: none;\n",
              "      border-radius: 50%;\n",
              "      cursor: pointer;\n",
              "      display: none;\n",
              "      fill: #1967D2;\n",
              "      height: 32px;\n",
              "      padding: 0 0 0 0;\n",
              "      width: 32px;\n",
              "    }\n",
              "\n",
              "    .colab-df-convert:hover {\n",
              "      background-color: #E2EBFA;\n",
              "      box-shadow: 0px 1px 2px rgba(60, 64, 67, 0.3), 0px 1px 3px 1px rgba(60, 64, 67, 0.15);\n",
              "      fill: #174EA6;\n",
              "    }\n",
              "\n",
              "    [theme=dark] .colab-df-convert {\n",
              "      background-color: #3B4455;\n",
              "      fill: #D2E3FC;\n",
              "    }\n",
              "\n",
              "    [theme=dark] .colab-df-convert:hover {\n",
              "      background-color: #434B5C;\n",
              "      box-shadow: 0px 1px 3px 1px rgba(0, 0, 0, 0.15);\n",
              "      filter: drop-shadow(0px 1px 2px rgba(0, 0, 0, 0.3));\n",
              "      fill: #FFFFFF;\n",
              "    }\n",
              "  </style>\n",
              "\n",
              "      <script>\n",
              "        const buttonEl =\n",
              "          document.querySelector('#df-c73374b2-4276-47cf-8e11-f932d89e3615 button.colab-df-convert');\n",
              "        buttonEl.style.display =\n",
              "          google.colab.kernel.accessAllowed ? 'block' : 'none';\n",
              "\n",
              "        async function convertToInteractive(key) {\n",
              "          const element = document.querySelector('#df-c73374b2-4276-47cf-8e11-f932d89e3615');\n",
              "          const dataTable =\n",
              "            await google.colab.kernel.invokeFunction('convertToInteractive',\n",
              "                                                     [key], {});\n",
              "          if (!dataTable) return;\n",
              "\n",
              "          const docLinkHtml = 'Like what you see? Visit the ' +\n",
              "            '<a target=\"_blank\" href=https://colab.research.google.com/notebooks/data_table.ipynb>data table notebook</a>'\n",
              "            + ' to learn more about interactive tables.';\n",
              "          element.innerHTML = '';\n",
              "          dataTable['output_type'] = 'display_data';\n",
              "          await google.colab.output.renderOutput(dataTable, element);\n",
              "          const docLink = document.createElement('div');\n",
              "          docLink.innerHTML = docLinkHtml;\n",
              "          element.appendChild(docLink);\n",
              "        }\n",
              "      </script>\n",
              "    </div>\n",
              "  </div>\n",
              "  "
            ]
          },
          "metadata": {},
          "execution_count": 9
        }
      ]
    },
    {
      "cell_type": "markdown",
      "source": [
        "**4. Extract the pin number from the property address**"
      ],
      "metadata": {
        "id": "0xv44SjeM4W3"
      }
    },
    {
      "cell_type": "code",
      "source": [
        "data['Pin'] = data['PropertyAddress'].str.slice(0, 4)\n",
        "data"
      ],
      "metadata": {
        "id": "qIq2heMCPzQS",
        "colab": {
          "base_uri": "https://localhost:8080/",
          "height": 815
        },
        "outputId": "e0d69c35-61f0-4aed-aea3-76f87ad896cf"
      },
      "execution_count": null,
      "outputs": [
        {
          "output_type": "execute_result",
          "data": {
            "text/plain": [
              "       UniqueID                   LandUse  \\\n",
              "0           2045            SINGLE FAMILY   \n",
              "1          16918            SINGLE FAMILY   \n",
              "2          54582            SINGLE FAMILY   \n",
              "3          43070            SINGLE FAMILY   \n",
              "4          22714            SINGLE FAMILY   \n",
              "...          ...                      ...   \n",
              "56443      30469            SINGLE FAMILY   \n",
              "56444      27707            SINGLE FAMILY   \n",
              "56445      52709  VACANT RESIDENTIAL LAND   \n",
              "56446      54042  VACANT RESIDENTIAL LAND   \n",
              "56447      54043  VACANT RESIDENTIAL LAND   \n",
              "\n",
              "                           PropertyAddress   SaleDate  SalePrice      Acre  \\\n",
              "0       1808  FOX CHASE DR, GOODLETTSVILLE 2013-04-09     240000  2.300000   \n",
              "1       1832  FOX CHASE DR, GOODLETTSVILLE 2014-06-10     366000  3.500000   \n",
              "2       1864 FOX CHASE  DR, GOODLETTSVILLE 2016-09-26     435000  2.900000   \n",
              "3       1853  FOX CHASE DR, GOODLETTSVILLE 2016-01-29     255000  2.600000   \n",
              "4       1829  FOX CHASE DR, GOODLETTSVILLE 2014-10-10     278000  2.000000   \n",
              "...                                    ...        ...        ...       ...   \n",
              "56443  1435  WINDING CREEK DR, NOLENSVILLE 2015-05-27     157500  0.498923   \n",
              "56444  1423  WINDING CREEK DR, NOLENSVILLE 2015-03-02     145000  0.498923   \n",
              "56445    1804 GRACE POINT  LN, NOLENSVILLE 2016-08-16     234611  0.498923   \n",
              "56446   1709 PARK TERRACE  LN, NOLENSVILLE 2016-09-07      93844  0.498923   \n",
              "56447   1713 PARK TERRACE  LN, NOLENSVILLE 2016-09-07      93844  0.498923   \n",
              "\n",
              "          LandValue  BuildingValue     TotalValue    YearBuilt  Bedrooms  \\\n",
              "0      50000.000000  168200.000000  235700.000000  1986.000000  3.000000   \n",
              "1      50000.000000  264100.000000  319000.000000  1998.000000  3.000000   \n",
              "2      50000.000000  216200.000000  298000.000000  1987.000000  4.000000   \n",
              "3      50000.000000  147300.000000  197300.000000  1985.000000  3.000000   \n",
              "4      50000.000000  152300.000000  202300.000000  1984.000000  4.000000   \n",
              "...             ...            ...            ...          ...       ...   \n",
              "56443  69068.557601  160784.677109  232375.398847  1963.744899  3.089912   \n",
              "56444  69068.557601  160784.677109  232375.398847  1963.744899  3.089912   \n",
              "56445  69068.557601  160784.677109  232375.398847  1963.744899  3.089912   \n",
              "56446  69068.557601  160784.677109  232375.398847  1963.744899  3.089912   \n",
              "56447  69068.557601  160784.677109  232375.398847  1963.744899  3.089912   \n",
              "\n",
              "       FullBathroom  HalfBathroom  Year  Month  Day   Pin  \n",
              "0          3.000000      0.000000  2013      4    9  1808  \n",
              "1          3.000000      2.000000  2014      6   10  1832  \n",
              "2          3.000000      0.000000  2016      9   26  1864  \n",
              "3          3.000000      0.000000  2016      1   29  1853  \n",
              "4          3.000000      0.000000  2014     10   10  1829  \n",
              "...             ...           ...   ...    ...  ...   ...  \n",
              "56443      1.886014      0.283921  2015      5   27  1435  \n",
              "56444      1.886014      0.283921  2015      3    2  1423  \n",
              "56445      1.886014      0.283921  2016      8   16  1804  \n",
              "56446      1.886014      0.283921  2016      9    7  1709  \n",
              "56447      1.886014      0.283921  2016      9    7  1713  \n",
              "\n",
              "[56448 rows x 17 columns]"
            ],
            "text/html": [
              "\n",
              "  <div id=\"df-b1902114-071e-4987-9788-ad075d400fcd\">\n",
              "    <div class=\"colab-df-container\">\n",
              "      <div>\n",
              "<style scoped>\n",
              "    .dataframe tbody tr th:only-of-type {\n",
              "        vertical-align: middle;\n",
              "    }\n",
              "\n",
              "    .dataframe tbody tr th {\n",
              "        vertical-align: top;\n",
              "    }\n",
              "\n",
              "    .dataframe thead th {\n",
              "        text-align: right;\n",
              "    }\n",
              "</style>\n",
              "<table border=\"1\" class=\"dataframe\">\n",
              "  <thead>\n",
              "    <tr style=\"text-align: right;\">\n",
              "      <th></th>\n",
              "      <th>UniqueID</th>\n",
              "      <th>LandUse</th>\n",
              "      <th>PropertyAddress</th>\n",
              "      <th>SaleDate</th>\n",
              "      <th>SalePrice</th>\n",
              "      <th>Acre</th>\n",
              "      <th>LandValue</th>\n",
              "      <th>BuildingValue</th>\n",
              "      <th>TotalValue</th>\n",
              "      <th>YearBuilt</th>\n",
              "      <th>Bedrooms</th>\n",
              "      <th>FullBathroom</th>\n",
              "      <th>HalfBathroom</th>\n",
              "      <th>Year</th>\n",
              "      <th>Month</th>\n",
              "      <th>Day</th>\n",
              "      <th>Pin</th>\n",
              "    </tr>\n",
              "  </thead>\n",
              "  <tbody>\n",
              "    <tr>\n",
              "      <th>0</th>\n",
              "      <td>2045</td>\n",
              "      <td>SINGLE FAMILY</td>\n",
              "      <td>1808  FOX CHASE DR, GOODLETTSVILLE</td>\n",
              "      <td>2013-04-09</td>\n",
              "      <td>240000</td>\n",
              "      <td>2.300000</td>\n",
              "      <td>50000.000000</td>\n",
              "      <td>168200.000000</td>\n",
              "      <td>235700.000000</td>\n",
              "      <td>1986.000000</td>\n",
              "      <td>3.000000</td>\n",
              "      <td>3.000000</td>\n",
              "      <td>0.000000</td>\n",
              "      <td>2013</td>\n",
              "      <td>4</td>\n",
              "      <td>9</td>\n",
              "      <td>1808</td>\n",
              "    </tr>\n",
              "    <tr>\n",
              "      <th>1</th>\n",
              "      <td>16918</td>\n",
              "      <td>SINGLE FAMILY</td>\n",
              "      <td>1832  FOX CHASE DR, GOODLETTSVILLE</td>\n",
              "      <td>2014-06-10</td>\n",
              "      <td>366000</td>\n",
              "      <td>3.500000</td>\n",
              "      <td>50000.000000</td>\n",
              "      <td>264100.000000</td>\n",
              "      <td>319000.000000</td>\n",
              "      <td>1998.000000</td>\n",
              "      <td>3.000000</td>\n",
              "      <td>3.000000</td>\n",
              "      <td>2.000000</td>\n",
              "      <td>2014</td>\n",
              "      <td>6</td>\n",
              "      <td>10</td>\n",
              "      <td>1832</td>\n",
              "    </tr>\n",
              "    <tr>\n",
              "      <th>2</th>\n",
              "      <td>54582</td>\n",
              "      <td>SINGLE FAMILY</td>\n",
              "      <td>1864 FOX CHASE  DR, GOODLETTSVILLE</td>\n",
              "      <td>2016-09-26</td>\n",
              "      <td>435000</td>\n",
              "      <td>2.900000</td>\n",
              "      <td>50000.000000</td>\n",
              "      <td>216200.000000</td>\n",
              "      <td>298000.000000</td>\n",
              "      <td>1987.000000</td>\n",
              "      <td>4.000000</td>\n",
              "      <td>3.000000</td>\n",
              "      <td>0.000000</td>\n",
              "      <td>2016</td>\n",
              "      <td>9</td>\n",
              "      <td>26</td>\n",
              "      <td>1864</td>\n",
              "    </tr>\n",
              "    <tr>\n",
              "      <th>3</th>\n",
              "      <td>43070</td>\n",
              "      <td>SINGLE FAMILY</td>\n",
              "      <td>1853  FOX CHASE DR, GOODLETTSVILLE</td>\n",
              "      <td>2016-01-29</td>\n",
              "      <td>255000</td>\n",
              "      <td>2.600000</td>\n",
              "      <td>50000.000000</td>\n",
              "      <td>147300.000000</td>\n",
              "      <td>197300.000000</td>\n",
              "      <td>1985.000000</td>\n",
              "      <td>3.000000</td>\n",
              "      <td>3.000000</td>\n",
              "      <td>0.000000</td>\n",
              "      <td>2016</td>\n",
              "      <td>1</td>\n",
              "      <td>29</td>\n",
              "      <td>1853</td>\n",
              "    </tr>\n",
              "    <tr>\n",
              "      <th>4</th>\n",
              "      <td>22714</td>\n",
              "      <td>SINGLE FAMILY</td>\n",
              "      <td>1829  FOX CHASE DR, GOODLETTSVILLE</td>\n",
              "      <td>2014-10-10</td>\n",
              "      <td>278000</td>\n",
              "      <td>2.000000</td>\n",
              "      <td>50000.000000</td>\n",
              "      <td>152300.000000</td>\n",
              "      <td>202300.000000</td>\n",
              "      <td>1984.000000</td>\n",
              "      <td>4.000000</td>\n",
              "      <td>3.000000</td>\n",
              "      <td>0.000000</td>\n",
              "      <td>2014</td>\n",
              "      <td>10</td>\n",
              "      <td>10</td>\n",
              "      <td>1829</td>\n",
              "    </tr>\n",
              "    <tr>\n",
              "      <th>...</th>\n",
              "      <td>...</td>\n",
              "      <td>...</td>\n",
              "      <td>...</td>\n",
              "      <td>...</td>\n",
              "      <td>...</td>\n",
              "      <td>...</td>\n",
              "      <td>...</td>\n",
              "      <td>...</td>\n",
              "      <td>...</td>\n",
              "      <td>...</td>\n",
              "      <td>...</td>\n",
              "      <td>...</td>\n",
              "      <td>...</td>\n",
              "      <td>...</td>\n",
              "      <td>...</td>\n",
              "      <td>...</td>\n",
              "      <td>...</td>\n",
              "    </tr>\n",
              "    <tr>\n",
              "      <th>56443</th>\n",
              "      <td>30469</td>\n",
              "      <td>SINGLE FAMILY</td>\n",
              "      <td>1435  WINDING CREEK DR, NOLENSVILLE</td>\n",
              "      <td>2015-05-27</td>\n",
              "      <td>157500</td>\n",
              "      <td>0.498923</td>\n",
              "      <td>69068.557601</td>\n",
              "      <td>160784.677109</td>\n",
              "      <td>232375.398847</td>\n",
              "      <td>1963.744899</td>\n",
              "      <td>3.089912</td>\n",
              "      <td>1.886014</td>\n",
              "      <td>0.283921</td>\n",
              "      <td>2015</td>\n",
              "      <td>5</td>\n",
              "      <td>27</td>\n",
              "      <td>1435</td>\n",
              "    </tr>\n",
              "    <tr>\n",
              "      <th>56444</th>\n",
              "      <td>27707</td>\n",
              "      <td>SINGLE FAMILY</td>\n",
              "      <td>1423  WINDING CREEK DR, NOLENSVILLE</td>\n",
              "      <td>2015-03-02</td>\n",
              "      <td>145000</td>\n",
              "      <td>0.498923</td>\n",
              "      <td>69068.557601</td>\n",
              "      <td>160784.677109</td>\n",
              "      <td>232375.398847</td>\n",
              "      <td>1963.744899</td>\n",
              "      <td>3.089912</td>\n",
              "      <td>1.886014</td>\n",
              "      <td>0.283921</td>\n",
              "      <td>2015</td>\n",
              "      <td>3</td>\n",
              "      <td>2</td>\n",
              "      <td>1423</td>\n",
              "    </tr>\n",
              "    <tr>\n",
              "      <th>56445</th>\n",
              "      <td>52709</td>\n",
              "      <td>VACANT RESIDENTIAL LAND</td>\n",
              "      <td>1804 GRACE POINT  LN, NOLENSVILLE</td>\n",
              "      <td>2016-08-16</td>\n",
              "      <td>234611</td>\n",
              "      <td>0.498923</td>\n",
              "      <td>69068.557601</td>\n",
              "      <td>160784.677109</td>\n",
              "      <td>232375.398847</td>\n",
              "      <td>1963.744899</td>\n",
              "      <td>3.089912</td>\n",
              "      <td>1.886014</td>\n",
              "      <td>0.283921</td>\n",
              "      <td>2016</td>\n",
              "      <td>8</td>\n",
              "      <td>16</td>\n",
              "      <td>1804</td>\n",
              "    </tr>\n",
              "    <tr>\n",
              "      <th>56446</th>\n",
              "      <td>54042</td>\n",
              "      <td>VACANT RESIDENTIAL LAND</td>\n",
              "      <td>1709 PARK TERRACE  LN, NOLENSVILLE</td>\n",
              "      <td>2016-09-07</td>\n",
              "      <td>93844</td>\n",
              "      <td>0.498923</td>\n",
              "      <td>69068.557601</td>\n",
              "      <td>160784.677109</td>\n",
              "      <td>232375.398847</td>\n",
              "      <td>1963.744899</td>\n",
              "      <td>3.089912</td>\n",
              "      <td>1.886014</td>\n",
              "      <td>0.283921</td>\n",
              "      <td>2016</td>\n",
              "      <td>9</td>\n",
              "      <td>7</td>\n",
              "      <td>1709</td>\n",
              "    </tr>\n",
              "    <tr>\n",
              "      <th>56447</th>\n",
              "      <td>54043</td>\n",
              "      <td>VACANT RESIDENTIAL LAND</td>\n",
              "      <td>1713 PARK TERRACE  LN, NOLENSVILLE</td>\n",
              "      <td>2016-09-07</td>\n",
              "      <td>93844</td>\n",
              "      <td>0.498923</td>\n",
              "      <td>69068.557601</td>\n",
              "      <td>160784.677109</td>\n",
              "      <td>232375.398847</td>\n",
              "      <td>1963.744899</td>\n",
              "      <td>3.089912</td>\n",
              "      <td>1.886014</td>\n",
              "      <td>0.283921</td>\n",
              "      <td>2016</td>\n",
              "      <td>9</td>\n",
              "      <td>7</td>\n",
              "      <td>1713</td>\n",
              "    </tr>\n",
              "  </tbody>\n",
              "</table>\n",
              "<p>56448 rows × 17 columns</p>\n",
              "</div>\n",
              "      <button class=\"colab-df-convert\" onclick=\"convertToInteractive('df-b1902114-071e-4987-9788-ad075d400fcd')\"\n",
              "              title=\"Convert this dataframe to an interactive table.\"\n",
              "              style=\"display:none;\">\n",
              "        \n",
              "  <svg xmlns=\"http://www.w3.org/2000/svg\" height=\"24px\"viewBox=\"0 0 24 24\"\n",
              "       width=\"24px\">\n",
              "    <path d=\"M0 0h24v24H0V0z\" fill=\"none\"/>\n",
              "    <path d=\"M18.56 5.44l.94 2.06.94-2.06 2.06-.94-2.06-.94-.94-2.06-.94 2.06-2.06.94zm-11 1L8.5 8.5l.94-2.06 2.06-.94-2.06-.94L8.5 2.5l-.94 2.06-2.06.94zm10 10l.94 2.06.94-2.06 2.06-.94-2.06-.94-.94-2.06-.94 2.06-2.06.94z\"/><path d=\"M17.41 7.96l-1.37-1.37c-.4-.4-.92-.59-1.43-.59-.52 0-1.04.2-1.43.59L10.3 9.45l-7.72 7.72c-.78.78-.78 2.05 0 2.83L4 21.41c.39.39.9.59 1.41.59.51 0 1.02-.2 1.41-.59l7.78-7.78 2.81-2.81c.8-.78.8-2.07 0-2.86zM5.41 20L4 18.59l7.72-7.72 1.47 1.35L5.41 20z\"/>\n",
              "  </svg>\n",
              "      </button>\n",
              "      \n",
              "  <style>\n",
              "    .colab-df-container {\n",
              "      display:flex;\n",
              "      flex-wrap:wrap;\n",
              "      gap: 12px;\n",
              "    }\n",
              "\n",
              "    .colab-df-convert {\n",
              "      background-color: #E8F0FE;\n",
              "      border: none;\n",
              "      border-radius: 50%;\n",
              "      cursor: pointer;\n",
              "      display: none;\n",
              "      fill: #1967D2;\n",
              "      height: 32px;\n",
              "      padding: 0 0 0 0;\n",
              "      width: 32px;\n",
              "    }\n",
              "\n",
              "    .colab-df-convert:hover {\n",
              "      background-color: #E2EBFA;\n",
              "      box-shadow: 0px 1px 2px rgba(60, 64, 67, 0.3), 0px 1px 3px 1px rgba(60, 64, 67, 0.15);\n",
              "      fill: #174EA6;\n",
              "    }\n",
              "\n",
              "    [theme=dark] .colab-df-convert {\n",
              "      background-color: #3B4455;\n",
              "      fill: #D2E3FC;\n",
              "    }\n",
              "\n",
              "    [theme=dark] .colab-df-convert:hover {\n",
              "      background-color: #434B5C;\n",
              "      box-shadow: 0px 1px 3px 1px rgba(0, 0, 0, 0.15);\n",
              "      filter: drop-shadow(0px 1px 2px rgba(0, 0, 0, 0.3));\n",
              "      fill: #FFFFFF;\n",
              "    }\n",
              "  </style>\n",
              "\n",
              "      <script>\n",
              "        const buttonEl =\n",
              "          document.querySelector('#df-b1902114-071e-4987-9788-ad075d400fcd button.colab-df-convert');\n",
              "        buttonEl.style.display =\n",
              "          google.colab.kernel.accessAllowed ? 'block' : 'none';\n",
              "\n",
              "        async function convertToInteractive(key) {\n",
              "          const element = document.querySelector('#df-b1902114-071e-4987-9788-ad075d400fcd');\n",
              "          const dataTable =\n",
              "            await google.colab.kernel.invokeFunction('convertToInteractive',\n",
              "                                                     [key], {});\n",
              "          if (!dataTable) return;\n",
              "\n",
              "          const docLinkHtml = 'Like what you see? Visit the ' +\n",
              "            '<a target=\"_blank\" href=https://colab.research.google.com/notebooks/data_table.ipynb>data table notebook</a>'\n",
              "            + ' to learn more about interactive tables.';\n",
              "          element.innerHTML = '';\n",
              "          dataTable['output_type'] = 'display_data';\n",
              "          await google.colab.output.renderOutput(dataTable, element);\n",
              "          const docLink = document.createElement('div');\n",
              "          docLink.innerHTML = docLinkHtml;\n",
              "          element.appendChild(docLink);\n",
              "        }\n",
              "      </script>\n",
              "    </div>\n",
              "  </div>\n",
              "  "
            ]
          },
          "metadata": {},
          "execution_count": 10
        }
      ]
    },
    {
      "cell_type": "markdown",
      "source": [
        "EDA"
      ],
      "metadata": {
        "id": "gZLusby9Pyn-"
      }
    },
    {
      "cell_type": "markdown",
      "source": [
        "1. How has the price of properties changed over the years\n"
      ],
      "metadata": {
        "id": "lIqHWvIgP3G4"
      }
    },
    {
      "cell_type": "code",
      "source": [
        "\n",
        "sales_grouped_data = data.groupby('Year')['TotalValue'].mean()\n"
      ],
      "metadata": {
        "id": "-lsXkAEUP1XB"
      },
      "execution_count": null,
      "outputs": []
    },
    {
      "cell_type": "code",
      "source": [
        "sns.set(rc={'figure.figsize':(10,5)})\n",
        "sns.barplot(x=sales_grouped_data.index, y =sales_grouped_data.values)\n"
      ],
      "metadata": {
        "colab": {
          "base_uri": "https://localhost:8080/",
          "height": 356
        },
        "id": "9FPKUHQYRNzx",
        "outputId": "04a32931-9ce6-4bfb-c7ad-b174dab12ebd"
      },
      "execution_count": null,
      "outputs": [
        {
          "output_type": "execute_result",
          "data": {
            "text/plain": [
              "<matplotlib.axes._subplots.AxesSubplot at 0x7efd23cc9390>"
            ]
          },
          "metadata": {},
          "execution_count": 202
        },
        {
          "output_type": "display_data",
          "data": {
            "text/plain": [
              "<Figure size 720x360 with 1 Axes>"
            ],
            "image/png": "[encoded data removed]"
          },
          "metadata": {}
        }
      ]
    },
    {
      "cell_type": "markdown",
      "source": [
        "2. Does a specific month or span of months have the highest property prices?\n",
        " "
      ],
      "metadata": {
        "id": "CR9NjU6lQkpW"
      }
    },
    {
      "cell_type": "code",
      "source": [
        "month_grouped_data = data.groupby('Month')['TotalValue'].mean()\n",
        "month_grouped_data"
      ],
      "metadata": {
        "colab": {
          "base_uri": "https://localhost:8080/"
        },
        "id": "nXP1kFW3S2am",
        "outputId": "099de54f-2e0f-4fbe-f602-ccfb450674c4"
      },
      "execution_count": null,
      "outputs": [
        {
          "output_type": "execute_result",
          "data": {
            "text/plain": [
              "Month\n",
              "1     230271.966277\n",
              "2     229443.987791\n",
              "3     225636.415592\n",
              "4     233302.875766\n",
              "5     234779.778462\n",
              "6     242604.991433\n",
              "7     234613.772727\n",
              "8     232716.948531\n",
              "9     228412.883323\n",
              "10    228221.168478\n",
              "11    231420.693613\n",
              "12    229828.784849\n",
              "Name: TotalValue, dtype: float64"
            ]
          },
          "metadata": {},
          "execution_count": 203
        }
      ]
    },
    {
      "cell_type": "code",
      "source": [
        "sns.set(rc={'figure.figsize':(10,5)})\n",
        "sns.barplot(x=month_grouped_data.index,y=month_grouped_data.values)"
      ],
      "metadata": {
        "colab": {
          "base_uri": "https://localhost:8080/",
          "height": 356
        },
        "id": "A42dLJs9TLuv",
        "outputId": "d06aa934-1eb2-4ce2-c761-ace2a11efd50"
      },
      "execution_count": null,
      "outputs": [
        {
          "output_type": "execute_result",
          "data": {
            "text/plain": [
              "<matplotlib.axes._subplots.AxesSubplot at 0x7efd263653d0>"
            ]
          },
          "metadata": {},
          "execution_count": 204
        },
        {
          "output_type": "display_data",
          "data": {
            "text/plain": [
              "<Figure size 720x360 with 1 Axes>"
            ],
            "image/png": "[encoded data removed]"
          },
          "metadata": {}
        }
      ]
    },
    {
      "cell_type": "markdown",
      "source": [
        "3. For what purpose were the properties generally purchased?\n"
      ],
      "metadata": {
        "id": "VHwa8ZPlQksM"
      }
    },
    {
      "cell_type": "code",
      "source": [
        "land_grouped_data=data.groupby('LandUse')['TotalValue'].count()\n",
        "land_grouped_data"
      ],
      "metadata": {
        "id": "_tnuEZrRTK2E",
        "colab": {
          "base_uri": "https://localhost:8080/"
        },
        "outputId": "0dd53c2e-a503-4d72-9aa2-a0b58ad4a569"
      },
      "execution_count": null,
      "outputs": [
        {
          "output_type": "execute_result",
          "data": {
            "text/plain": [
              "LandUse\n",
              "APARTMENT: LOW RISE (BUILT SINCE 1960)            2\n",
              "CHURCH                                           34\n",
              "CLUB/UNION HALL/LODGE                             1\n",
              "CONDO                                           247\n",
              "CONDOMINIUM OFC  OR OTHER COM CONDO              35\n",
              "CONVENIENCE MARKET WITHOUT GAS                    1\n",
              "DAY CARE CENTER                                   2\n",
              "DORMITORY/BOARDING HOUSE                         19\n",
              "DUPLEX                                         1373\n",
              "FOREST                                           10\n",
              "GREENBELT                                        10\n",
              "GREENBELT/RES_x000D_\\nGRRENBELT/RES               3\n",
              "LIGHT MANUFACTURING                               1\n",
              "METRO OTHER THAN OFC, SCHOOL,HOSP, OR PARK        1\n",
              "MOBILE HOME                                      20\n",
              "MORTUARY/CEMETERY                                 1\n",
              "NIGHTCLUB/LOUNGE                                  1\n",
              "NON-PROFIT CHARITABLE SERVICE                     2\n",
              "OFFICE BLDG (ONE OR TWO STORIES)                  2\n",
              "ONE STORY GENERAL RETAIL STORE                    1\n",
              "PARKING LOT                                      11\n",
              "PARSONAGE                                         6\n",
              "QUADPLEX                                         39\n",
              "RESIDENTIAL COMBO/MISC                           95\n",
              "RESIDENTIAL CONDO                             14077\n",
              "RESTURANT/CAFETERIA                               2\n",
              "SINGLE FAMILY                                 34177\n",
              "SMALL SERVICE SHOP                                1\n",
              "SPLIT CLASS                                      17\n",
              "STRIP SHOPPING CENTER                             1\n",
              "TERMINAL/DISTRIBUTION WAREHOUSE                   2\n",
              "TRIPLEX                                          92\n",
              "VACANT COMMERCIAL LAND                           17\n",
              "VACANT RES LAND                                1548\n",
              "VACANT RESIDENTIAL LAND                        3542\n",
              "VACANT RESIENTIAL LAND                            3\n",
              "VACANT RURAL LAND                                 2\n",
              "VACANT ZONED MULTI FAMILY                         2\n",
              "ZERO LOT LINE                                  1048\n",
              "Name: TotalValue, dtype: int64"
            ]
          },
          "metadata": {},
          "execution_count": 12
        }
      ]
    },
    {
      "cell_type": "markdown",
      "source": [
        "4. What is the average age of the properties?\n"
      ],
      "metadata": {
        "id": "ApPzERKPQkvK"
      }
    },
    {
      "cell_type": "code",
      "source": [
        "data[\"age\"]=(2022-data['YearBuilt'])\n",
        "data[\"age\"].mean()"
      ],
      "metadata": {
        "id": "OhWikqVwS3rh",
        "colab": {
          "base_uri": "https://localhost:8080/"
        },
        "outputId": "6a66df5b-c23a-48b5-e9a4-510cb79bb58b"
      },
      "execution_count": null,
      "outputs": [
        {
          "output_type": "execute_result",
          "data": {
            "text/plain": [
              "58.26003614476386"
            ]
          },
          "metadata": {},
          "execution_count": 13
        }
      ]
    },
    {
      "cell_type": "markdown",
      "source": [
        "5. Have the age of houses affected the price?\n"
      ],
      "metadata": {
        "id": "yuQL15IqQkyQ"
      }
    },
    {
      "cell_type": "code",
      "source": [
        "dyp=data.groupby(\"age\")[\"TotalValue\"].mean()\n",
        "dyp"
      ],
      "metadata": {
        "colab": {
          "base_uri": "https://localhost:8080/"
        },
        "id": "RhpV_qFz0Llj",
        "outputId": "1e51c05d-c101-49f9-9681-caedae530743"
      },
      "execution_count": null,
      "outputs": [
        {
          "output_type": "execute_result",
          "data": {
            "text/plain": [
              "age\n",
              "5.0      823438.461538\n",
              "6.0      509066.500000\n",
              "7.0      499540.594059\n",
              "8.0      424651.330798\n",
              "9.0      427001.683502\n",
              "             ...      \n",
              "132.0    528200.000000\n",
              "142.0    101800.000000\n",
              "152.0    369650.000000\n",
              "190.0    632200.000000\n",
              "223.0    778900.000000\n",
              "Name: TotalValue, Length: 127, dtype: float64"
            ]
          },
          "metadata": {},
          "execution_count": 14
        }
      ]
    },
    {
      "cell_type": "code",
      "source": [
        "sns.set(rc={'figure.figsize':(60,6)})\n",
        "sns.barplot(x=dyp.index,y=dyp.values)"
      ],
      "metadata": {
        "id": "EVfbwQ8fS4OH",
        "colab": {
          "base_uri": "https://localhost:8080/",
          "height": 206
        },
        "outputId": "4c31f78c-3ec2-454c-f827-df4347836f86"
      },
      "execution_count": null,
      "outputs": [
        {
          "output_type": "execute_result",
          "data": {
            "text/plain": [
              "<matplotlib.axes._subplots.AxesSubplot at 0x7f7e7beba1d0>"
            ]
          },
          "metadata": {},
          "execution_count": 17
        },
        {
          "output_type": "display_data",
          "data": {
            "text/plain": [
              "<Figure size 4320x432 with 1 Axes>"
            ],
            "image/png": "[encoded data removed]"
          },
          "metadata": {}
        }
      ]
    },
    {
      "cell_type": "markdown",
      "source": [
        "6. Have the number of rooms in the house affected the price?\n"
      ],
      "metadata": {
        "id": "37H5ILObQk09"
      }
    },
    {
      "cell_type": "code",
      "source": [
        "sns.set(rc={'figure.figsize':(10,5)})\n",
        "sns.scatterplot(data['TotalRooms'],data[\"TotalValue\"])"
      ],
      "metadata": {
        "colab": {
          "base_uri": "https://localhost:8080/",
          "height": 422
        },
        "id": "3S0faFkdyMW7",
        "outputId": "ff9654f8-cf9a-4010-ebe5-8a54cb14f9de"
      },
      "execution_count": null,
      "outputs": [
        {
          "output_type": "stream",
          "name": "stderr",
          "text": [
            "/usr/local/lib/python3.7/dist-packages/seaborn/_decorators.py:43: FutureWarning: Pass the following variables as keyword args: x, y. From version 0.12, the only valid positional argument will be `data`, and passing other arguments without an explicit keyword will result in an error or misinterpretation.\n",
            "  FutureWarning\n"
          ]
        },
        {
          "output_type": "execute_result",
          "data": {
            "text/plain": [
              "<matplotlib.axes._subplots.AxesSubplot at 0x7f7e7b7f0210>"
            ]
          },
          "metadata": {},
          "execution_count": 31
        },
        {
          "output_type": "display_data",
          "data": {
            "text/plain": [
              "<Figure size 720x360 with 1 Axes>"
            ],
            "image/png": "[encoded data removed]"
          },
          "metadata": {}
        }
      ]
    },
    {
      "cell_type": "code",
      "source": [
        "data['TotalRooms'] = data['Bedrooms'] + data['FullBathroom'] + data['HalfBathroom']\n",
        "data['TotalRooms']"
      ],
      "metadata": {
        "id": "eCxmhd16S4rq",
        "colab": {
          "base_uri": "https://localhost:8080/"
        },
        "outputId": "a2ab51b9-daff-45fb-e5c6-82a9f2821d66"
      },
      "execution_count": null,
      "outputs": [
        {
          "output_type": "execute_result",
          "data": {
            "text/plain": [
              "0        6.000000\n",
              "1        8.000000\n",
              "2        7.000000\n",
              "3        6.000000\n",
              "4        7.000000\n",
              "           ...   \n",
              "56443    5.259848\n",
              "56444    5.259848\n",
              "56445    5.259848\n",
              "56446    5.259848\n",
              "56447    5.259848\n",
              "Name: TotalRooms, Length: 56448, dtype: float64"
            ]
          },
          "metadata": {},
          "execution_count": 19
        }
      ]
    },
    {
      "cell_type": "markdown",
      "source": [
        "**7. Does the size of the property (no. of acres) have any influence in its price?**\n"
      ],
      "metadata": {
        "id": "wivjL6_dQzJ9"
      }
    },
    {
      "cell_type": "code",
      "source": [
        "property_grouped_data=data.groupby('Acre')['TotalValue'].mean()\n",
        "property_grouped_data"
      ],
      "metadata": {
        "id": "EuKzLfhyS5MO",
        "colab": {
          "base_uri": "https://localhost:8080/"
        },
        "outputId": "92332741-6b99-4057-9ad5-e9dd47775246"
      },
      "execution_count": null,
      "outputs": [
        {
          "output_type": "execute_result",
          "data": {
            "text/plain": [
              "Acre\n",
              "0.01      4.500000e+02\n",
              "0.02      1.083333e+03\n",
              "0.03      9.333333e+02\n",
              "0.04      4.390000e+04\n",
              "0.05      5.682727e+04\n",
              "              ...     \n",
              "47.50     1.494950e+05\n",
              "51.34     6.435000e+05\n",
              "62.96     9.444000e+05\n",
              "68.79     5.832000e+04\n",
              "160.06    1.921700e+06\n",
              "Name: TotalValue, Length: 520, dtype: float64"
            ]
          },
          "metadata": {},
          "execution_count": 20
        }
      ]
    },
    {
      "cell_type": "code",
      "source": [
        "np.corrcoef(property_grouped_data.index,property_grouped_data.values)"
      ],
      "metadata": {
        "colab": {
          "base_uri": "https://localhost:8080/"
        },
        "id": "WPzS8s7tJ8Qd",
        "outputId": "ba8ce919-1dec-4664-cc8a-78bcda5cc296"
      },
      "execution_count": null,
      "outputs": [
        {
          "output_type": "execute_result",
          "data": {
            "text/plain": [
              "array([[1.        , 0.16965822],\n",
              "       [0.16965822, 1.        ]])"
            ]
          },
          "metadata": {},
          "execution_count": 28
        }
      ]
    },
    {
      "cell_type": "code",
      "source": [
        "sns.set(rc={'figure.figsize':(10,5)})\n",
        "sns.scatterplot(x=property_grouped_data.index, y=property_grouped_data.values)"
      ],
      "metadata": {
        "colab": {
          "base_uri": "https://localhost:8080/",
          "height": 367
        },
        "id": "iaG7q6B0d9-6",
        "outputId": "60a6d73f-f208-4898-bace-682ff98f9aab"
      },
      "execution_count": null,
      "outputs": [
        {
          "output_type": "execute_result",
          "data": {
            "text/plain": [
              "<matplotlib.axes._subplots.AxesSubplot at 0x7f7e7b90ba90>"
            ]
          },
          "metadata": {},
          "execution_count": 29
        },
        {
          "output_type": "display_data",
          "data": {
            "text/plain": [
              "<Figure size 720x360 with 1 Axes>"
            ],
            "image/png": "[encoded data removed]"
          },
          "metadata": {}
        }
      ]
    },
    {
      "cell_type": "markdown",
      "source": [
        "8. Are houses located in specific pin numbers expensive over the others?\n"
      ],
      "metadata": {
        "id": "NP7o_f5xQzSE"
      }
    },
    {
      "cell_type": "code",
      "source": [
        ""
      ],
      "metadata": {
        "id": "6uqRE-IEhFhy"
      },
      "execution_count": null,
      "outputs": []
    },
    {
      "cell_type": "markdown",
      "source": [
        "9. How have house prices changed in the 21st centuary as supposed to 20th centuary."
      ],
      "metadata": {
        "id": "dSfOocK5Qzad"
      }
    }
  ]
}